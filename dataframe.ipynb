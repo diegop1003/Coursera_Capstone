{
 "cells": [
  {
   "cell_type": "markdown",
   "metadata": {},
   "source": [
    "# Retrieving and cleaning the dataframe"
   ]
  },
  {
   "cell_type": "code",
   "execution_count": 49,
   "metadata": {},
   "outputs": [],
   "source": [
    "import pandas as pd\n",
    "import numpy as np\n",
    "\n",
    "url = 'https://en.wikipedia.org/wiki/List_of_postal_codes_of_Canada:_M'\n",
    "df = pd.read_html(url)[0]"
   ]
  },
  {
   "cell_type": "code",
   "execution_count": 50,
   "metadata": {
    "scrolled": true
   },
   "outputs": [
    {
     "data": {
      "text/html": [
       "<div>\n",
       "<style scoped>\n",
       "    .dataframe tbody tr th:only-of-type {\n",
       "        vertical-align: middle;\n",
       "    }\n",
       "\n",
       "    .dataframe tbody tr th {\n",
       "        vertical-align: top;\n",
       "    }\n",
       "\n",
       "    .dataframe thead th {\n",
       "        text-align: right;\n",
       "    }\n",
       "</style>\n",
       "<table border=\"1\" class=\"dataframe\">\n",
       "  <thead>\n",
       "    <tr style=\"text-align: right;\">\n",
       "      <th></th>\n",
       "      <th>Postal Code</th>\n",
       "      <th>Borough</th>\n",
       "      <th>Neighborhood</th>\n",
       "    </tr>\n",
       "  </thead>\n",
       "  <tbody>\n",
       "    <tr>\n",
       "      <th>0</th>\n",
       "      <td>M1A</td>\n",
       "      <td>Not assigned</td>\n",
       "      <td>NaN</td>\n",
       "    </tr>\n",
       "    <tr>\n",
       "      <th>1</th>\n",
       "      <td>M2A</td>\n",
       "      <td>Not assigned</td>\n",
       "      <td>NaN</td>\n",
       "    </tr>\n",
       "    <tr>\n",
       "      <th>2</th>\n",
       "      <td>M3A</td>\n",
       "      <td>North York</td>\n",
       "      <td>Parkwoods</td>\n",
       "    </tr>\n",
       "    <tr>\n",
       "      <th>3</th>\n",
       "      <td>M4A</td>\n",
       "      <td>North York</td>\n",
       "      <td>Victoria Village</td>\n",
       "    </tr>\n",
       "    <tr>\n",
       "      <th>4</th>\n",
       "      <td>M5A</td>\n",
       "      <td>Downtown Toronto</td>\n",
       "      <td>Regent Park, Harbourfront</td>\n",
       "    </tr>\n",
       "  </tbody>\n",
       "</table>\n",
       "</div>"
      ],
      "text/plain": [
       "  Postal Code           Borough               Neighborhood\n",
       "0         M1A      Not assigned                        NaN\n",
       "1         M2A      Not assigned                        NaN\n",
       "2         M3A        North York                  Parkwoods\n",
       "3         M4A        North York           Victoria Village\n",
       "4         M5A  Downtown Toronto  Regent Park, Harbourfront"
      ]
     },
     "execution_count": 50,
     "metadata": {},
     "output_type": "execute_result"
    }
   ],
   "source": [
    "df.head()"
   ]
  },
  {
   "cell_type": "code",
   "execution_count": 62,
   "metadata": {},
   "outputs": [],
   "source": [
    "# Removing all the Not assigned rows from Borough column.\n",
    "df = df[~df['Borough'].isin(['Not assigned'])]"
   ]
  },
  {
   "cell_type": "code",
   "execution_count": 75,
   "metadata": {},
   "outputs": [
    {
     "data": {
      "text/html": [
       "<div>\n",
       "<style scoped>\n",
       "    .dataframe tbody tr th:only-of-type {\n",
       "        vertical-align: middle;\n",
       "    }\n",
       "\n",
       "    .dataframe tbody tr th {\n",
       "        vertical-align: top;\n",
       "    }\n",
       "\n",
       "    .dataframe thead th {\n",
       "        text-align: right;\n",
       "    }\n",
       "</style>\n",
       "<table border=\"1\" class=\"dataframe\">\n",
       "  <thead>\n",
       "    <tr style=\"text-align: right;\">\n",
       "      <th></th>\n",
       "      <th>Postal Code</th>\n",
       "      <th>Borough</th>\n",
       "      <th>Neighborhood</th>\n",
       "    </tr>\n",
       "  </thead>\n",
       "  <tbody>\n",
       "    <tr>\n",
       "      <th>2</th>\n",
       "      <td>M3A</td>\n",
       "      <td>North York</td>\n",
       "      <td>Parkwoods</td>\n",
       "    </tr>\n",
       "    <tr>\n",
       "      <th>3</th>\n",
       "      <td>M4A</td>\n",
       "      <td>North York</td>\n",
       "      <td>Victoria Village</td>\n",
       "    </tr>\n",
       "    <tr>\n",
       "      <th>4</th>\n",
       "      <td>M5A</td>\n",
       "      <td>Downtown Toronto</td>\n",
       "      <td>Regent Park, Harbourfront</td>\n",
       "    </tr>\n",
       "    <tr>\n",
       "      <th>5</th>\n",
       "      <td>M6A</td>\n",
       "      <td>North York</td>\n",
       "      <td>Lawrence Manor, Lawrence Heights</td>\n",
       "    </tr>\n",
       "    <tr>\n",
       "      <th>6</th>\n",
       "      <td>M7A</td>\n",
       "      <td>Downtown Toronto</td>\n",
       "      <td>Queen's Park, Ontario Provincial Government</td>\n",
       "    </tr>\n",
       "    <tr>\n",
       "      <th>8</th>\n",
       "      <td>M9A</td>\n",
       "      <td>Etobicoke</td>\n",
       "      <td>Islington Avenue</td>\n",
       "    </tr>\n",
       "    <tr>\n",
       "      <th>9</th>\n",
       "      <td>M1B</td>\n",
       "      <td>Scarborough</td>\n",
       "      <td>Malvern, Rouge</td>\n",
       "    </tr>\n",
       "    <tr>\n",
       "      <th>11</th>\n",
       "      <td>M3B</td>\n",
       "      <td>North York</td>\n",
       "      <td>Don Mills</td>\n",
       "    </tr>\n",
       "    <tr>\n",
       "      <th>12</th>\n",
       "      <td>M4B</td>\n",
       "      <td>East York</td>\n",
       "      <td>Parkview Hill, Woodbine Gardens</td>\n",
       "    </tr>\n",
       "    <tr>\n",
       "      <th>13</th>\n",
       "      <td>M5B</td>\n",
       "      <td>Downtown Toronto</td>\n",
       "      <td>Garden District, Ryerson</td>\n",
       "    </tr>\n",
       "  </tbody>\n",
       "</table>\n",
       "</div>"
      ],
      "text/plain": [
       "   Postal Code           Borough                                 Neighborhood\n",
       "2          M3A        North York                                    Parkwoods\n",
       "3          M4A        North York                             Victoria Village\n",
       "4          M5A  Downtown Toronto                    Regent Park, Harbourfront\n",
       "5          M6A        North York             Lawrence Manor, Lawrence Heights\n",
       "6          M7A  Downtown Toronto  Queen's Park, Ontario Provincial Government\n",
       "8          M9A         Etobicoke                             Islington Avenue\n",
       "9          M1B       Scarborough                               Malvern, Rouge\n",
       "11         M3B        North York                                    Don Mills\n",
       "12         M4B         East York              Parkview Hill, Woodbine Gardens\n",
       "13         M5B  Downtown Toronto                     Garden District, Ryerson"
      ]
     },
     "execution_count": 75,
     "metadata": {},
     "output_type": "execute_result"
    }
   ],
   "source": [
    "df.head(10)"
   ]
  },
  {
   "cell_type": "code",
   "execution_count": 76,
   "metadata": {},
   "outputs": [
    {
     "data": {
      "text/plain": [
       "pandas.core.series.Series"
      ]
     },
     "execution_count": 76,
     "metadata": {},
     "output_type": "execute_result"
    }
   ],
   "source": [
    "post = df['Postal Code'].value_counts()\n",
    "post.values.tolist()\n",
    "type(post)"
   ]
  },
  {
   "cell_type": "code",
   "execution_count": 80,
   "metadata": {},
   "outputs": [
    {
     "name": "stdout",
     "output_type": "stream",
     "text": [
      "No Postal Code is duplicated\n",
      "No Postal Code is duplicated\n",
      "No Postal Code is duplicated\n",
      "No Postal Code is duplicated\n",
      "No Postal Code is duplicated\n",
      "No Postal Code is duplicated\n",
      "No Postal Code is duplicated\n",
      "No Postal Code is duplicated\n",
      "No Postal Code is duplicated\n",
      "No Postal Code is duplicated\n",
      "No Postal Code is duplicated\n",
      "No Postal Code is duplicated\n",
      "No Postal Code is duplicated\n",
      "No Postal Code is duplicated\n",
      "No Postal Code is duplicated\n",
      "No Postal Code is duplicated\n",
      "No Postal Code is duplicated\n",
      "No Postal Code is duplicated\n",
      "No Postal Code is duplicated\n",
      "No Postal Code is duplicated\n",
      "No Postal Code is duplicated\n",
      "No Postal Code is duplicated\n",
      "No Postal Code is duplicated\n",
      "No Postal Code is duplicated\n",
      "No Postal Code is duplicated\n",
      "No Postal Code is duplicated\n",
      "No Postal Code is duplicated\n",
      "No Postal Code is duplicated\n",
      "No Postal Code is duplicated\n",
      "No Postal Code is duplicated\n",
      "No Postal Code is duplicated\n",
      "No Postal Code is duplicated\n",
      "No Postal Code is duplicated\n",
      "No Postal Code is duplicated\n",
      "No Postal Code is duplicated\n",
      "No Postal Code is duplicated\n",
      "No Postal Code is duplicated\n",
      "No Postal Code is duplicated\n",
      "No Postal Code is duplicated\n",
      "No Postal Code is duplicated\n",
      "No Postal Code is duplicated\n",
      "No Postal Code is duplicated\n",
      "No Postal Code is duplicated\n",
      "No Postal Code is duplicated\n",
      "No Postal Code is duplicated\n",
      "No Postal Code is duplicated\n",
      "No Postal Code is duplicated\n",
      "No Postal Code is duplicated\n",
      "No Postal Code is duplicated\n",
      "No Postal Code is duplicated\n",
      "No Postal Code is duplicated\n",
      "No Postal Code is duplicated\n",
      "No Postal Code is duplicated\n",
      "No Postal Code is duplicated\n",
      "No Postal Code is duplicated\n",
      "No Postal Code is duplicated\n",
      "No Postal Code is duplicated\n",
      "No Postal Code is duplicated\n",
      "No Postal Code is duplicated\n",
      "No Postal Code is duplicated\n",
      "No Postal Code is duplicated\n",
      "No Postal Code is duplicated\n",
      "No Postal Code is duplicated\n",
      "No Postal Code is duplicated\n",
      "No Postal Code is duplicated\n",
      "No Postal Code is duplicated\n",
      "No Postal Code is duplicated\n",
      "No Postal Code is duplicated\n",
      "No Postal Code is duplicated\n",
      "No Postal Code is duplicated\n",
      "No Postal Code is duplicated\n",
      "No Postal Code is duplicated\n",
      "No Postal Code is duplicated\n",
      "No Postal Code is duplicated\n",
      "No Postal Code is duplicated\n",
      "No Postal Code is duplicated\n",
      "No Postal Code is duplicated\n",
      "No Postal Code is duplicated\n",
      "No Postal Code is duplicated\n",
      "No Postal Code is duplicated\n",
      "No Postal Code is duplicated\n",
      "No Postal Code is duplicated\n",
      "No Postal Code is duplicated\n",
      "No Postal Code is duplicated\n",
      "No Postal Code is duplicated\n",
      "No Postal Code is duplicated\n",
      "No Postal Code is duplicated\n",
      "No Postal Code is duplicated\n",
      "No Postal Code is duplicated\n",
      "No Postal Code is duplicated\n",
      "No Postal Code is duplicated\n",
      "No Postal Code is duplicated\n",
      "No Postal Code is duplicated\n",
      "No Postal Code is duplicated\n",
      "No Postal Code is duplicated\n",
      "No Postal Code is duplicated\n",
      "No Postal Code is duplicated\n",
      "No Postal Code is duplicated\n",
      "No Postal Code is duplicated\n",
      "No Postal Code is duplicated\n",
      "No Postal Code is duplicated\n",
      "No Postal Code is duplicated\n",
      "No Postal Code is duplicated\n"
     ]
    }
   ],
   "source": [
    "#Checking if there is any duplicated postal code\n",
    "for i in post:\n",
    "    if i != 1:\n",
    "        print('Algo')\n",
    "    else:\n",
    "        print('No Postal Code is duplicated')\n",
    "    "
   ]
  },
  {
   "cell_type": "markdown",
   "metadata": {},
   "source": [
    "#### <font color=red>All the 'Not Assigned' boroughs had 'Nan' Neighborhoods, therefore, they were all excluded.</font> \n",
    "#### <font color=red>Afterwards, no duplicated postal codes were found</font> "
   ]
  },
  {
   "cell_type": "code",
   "execution_count": 82,
   "metadata": {},
   "outputs": [
    {
     "data": {
      "text/plain": [
       "(103, 3)"
      ]
     },
     "execution_count": 82,
     "metadata": {},
     "output_type": "execute_result"
    }
   ],
   "source": [
    "df.shape"
   ]
  }
 ],
 "metadata": {
  "kernelspec": {
   "display_name": "Python 3",
   "language": "python",
   "name": "python3"
  },
  "language_info": {
   "codemirror_mode": {
    "name": "ipython",
    "version": 3
   },
   "file_extension": ".py",
   "mimetype": "text/x-python",
   "name": "python",
   "nbconvert_exporter": "python",
   "pygments_lexer": "ipython3",
   "version": "3.7.6"
  }
 },
 "nbformat": 4,
 "nbformat_minor": 4
}
